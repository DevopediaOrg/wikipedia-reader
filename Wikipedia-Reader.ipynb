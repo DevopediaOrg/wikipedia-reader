{
  "nbformat": 4,
  "nbformat_minor": 0,
  "metadata": {
    "colab": {
      "name": "WikipediaRunner.ipynb",
      "provenance": [],
      "collapsed_sections": []
    },
    "kernelspec": {
      "name": "python3",
      "display_name": "Python 3"
    }
  },
  "cells": [
    {
      "source": [
        "# 1. Setup"
      ],
      "cell_type": "markdown",
      "metadata": {}
    },
    {
      "cell_type": "code",
      "metadata": {
        "id": "WLf5_jJUSUIV",
        "colab_type": "code",
        "colab": {}
      },
      "source": [
        "from google.colab import drive\n",
        "drive.mount(\"/content/drive\", force_remount=True)"
      ],
      "execution_count": 0,
      "outputs": []
    },
    {
      "cell_type": "code",
      "execution_count": null,
      "metadata": {},
      "outputs": [],
      "source": [
        "BasePath = '/content/drive/My Drive/NLP Resources/WikipediaArticles'\n",
        "OutDir = '2020Apr05.134600' # set to empty string for a new crawl"
      ]
    },
    {
      "cell_type": "code",
      "metadata": {
        "id": "XCaTCnv2Prjn",
        "colab_type": "code",
        "colab": {}
      },
      "source": [
        "!wget -q https://github.com/DevopediaOrg/wikipedia-reader/archive/master.zip"
      ],
      "execution_count": 0,
      "outputs": []
    },
    {
      "cell_type": "code",
      "metadata": {
        "id": "LxmsrW8HP1Cm",
        "colab_type": "code",
        "colab": {}
      },
      "source": [
        "!unzip -oq master.zip\n",
        "!mv wikipedia-reader-master/* .\n",
        "!mv wikipedia-reader-master/.* .\n",
        "!rm -rf wikipedia-reader-master"
      ],
      "execution_count": 0,
      "outputs": []
    },
    {
      "cell_type": "code",
      "metadata": {
        "id": "6tfL_j2qI0df",
        "colab_type": "code",
        "colab": {}
      },
      "source": [
        "!pip install -q -r requirements.txt"
      ],
      "execution_count": 0,
      "outputs": []
    },
    {
      "cell_type": "markdown",
      "metadata": {
        "id": "t4mk61K7h7P3",
        "colab_type": "text"
      },
      "source": [
        "# 2. Crawl & Read"
      ]
    },
    {
      "cell_type": "code",
      "metadata": {
        "id": "Iqy0zpu0LEgb",
        "colab_type": "code",
        "colab": {}
      },
      "source": [
        "!sh runner.sh \"$BASE\" $OutDir | tee \"$BASE\"/log.txt"
      ],
      "execution_count": 0,
      "outputs": []
    },
    {
      "cell_type": "markdown",
      "metadata": {
        "id": "X-8cgfM6ahgK",
        "colab_type": "text"
      },
      "source": [
        "Delete `*.json` files and keep only the `*.bz2` files to make it easier to download"
      ]
    },
    {
      "cell_type": "code",
      "metadata": {
        "id": "gsx-SVHXW0md",
        "colab_type": "code",
        "colab": {}
      },
      "source": [
        "!(  BASE=/content/drive/My\\ Drive/WikipediaArticles; \\\n",
        "    DIR=$(ls -drtF1 \"$BASE\"/*/ | tail -1 | sed -e 's/\\/\\/*$//g'); \\\n",
        "    rm \"$DIR\"/*.json )"
      ],
      "execution_count": 0,
      "outputs": []
    },
    {
      "cell_type": "code",
      "metadata": {
        "id": "9biemlz5W97y",
        "colab_type": "code",
        "colab": {}
      },
      "source": [
        "!du -hs \"/content/drive/My Drive/WikipediaArticles/2020Apr05.134600\""
      ],
      "execution_count": 0,
      "outputs": []
    }
  ]
}