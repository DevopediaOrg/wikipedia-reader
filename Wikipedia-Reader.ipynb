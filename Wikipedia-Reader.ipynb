{
  "nbformat": 4,
  "nbformat_minor": 0,
  "metadata": {
    "colab": {
      "name": "WikipediaRunner.ipynb",
      "provenance": [],
      "collapsed_sections": []
    },
    "kernelspec": {
      "name": "python3",
      "display_name": "Python 3"
    }
  },
  "cells": [
    {
      "cell_type": "code",
      "metadata": {
        "id": "XCaTCnv2Prjn",
        "colab_type": "code",
        "colab": {}
      },
      "source": [
        "!wget -q https://github.com/DevopediaOrg/wikipedia-reader/archive/master.zip"
      ],
      "execution_count": 0,
      "outputs": []
    },
    {
      "cell_type": "code",
      "metadata": {
        "id": "LxmsrW8HP1Cm",
        "colab_type": "code",
        "colab": {}
      },
      "source": [
        "!unzip -oq master.zip"
      ],
      "execution_count": 0,
      "outputs": []
    },
    {
      "cell_type": "code",
      "metadata": {
        "id": "WLf5_jJUSUIV",
        "colab_type": "code",
        "colab": {}
      },
      "source": [
        "from google.colab import drive\n",
        "drive.mount(\"/content/drive\", force_remount=True)"
      ],
      "execution_count": 0,
      "outputs": []
    },
    {
      "cell_type": "code",
      "execution_count": null,
      "metadata": {},
      "outputs": [],
      "source": [
        "# !unzip \"/content/drive/My Drive/NLP-Resources/final*\"\n",
        "# import pandas as pd\n",
        "# articles = pd.read_csv('final_labelled_wiki_dataset.csv')\n",
        "# articles"
      ]
    },
    {
      "cell_type": "code",
      "metadata": {
        "id": "6tfL_j2qI0df",
        "colab_type": "code",
        "colab": {}
      },
      "source": [
        "!cd wikipedia-reader-master/; pip install -q -r requirements.txt"
      ],
      "execution_count": 0,
      "outputs": []
    },
    {
      "cell_type": "code",
      "execution_count": null,
      "metadata": {},
      "outputs": [],
      "source": [
        "# !(  BASE=/content/drive/My\\ Drive/WikipediaArticles; \\\n",
        "#     cd wikipedia-reader-master/; \\\n",
        "#     mkdir -p \"$BASE\"; \\\n",
        "#     python main.py -b \"$BASE\" -d dev.17sep -l 1 )"
      ]
    },
    {
      "cell_type": "code",
      "metadata": {
        "id": "9p06nIuPOF-j",
        "colab_type": "code",
        "colab": {}
      },
      "source": [
        "# Patch a file from Google Drive (during development)\n",
        "#!cp /content/drive/My\\ Drive/WikipediaArticles/runner.sh wikipedia-reader-master/"
      ],
      "execution_count": 0,
      "outputs": []
    },
    {
      "cell_type": "markdown",
      "metadata": {
        "id": "t4mk61K7h7P3",
        "colab_type": "text"
      },
      "source": [
        "Once the first level of links is processed, Python script will switch to next level of links. Terminate the run just after this switch happens."
      ]
    },
    {
      "cell_type": "code",
      "metadata": {
        "id": "Iqy0zpu0LEgb",
        "colab_type": "code",
        "colab": {}
      },
      "source": [
        "!(  BASE=/content/drive/My\\ Drive/WikipediaArticles; \\\n",
        "    cd wikipedia-reader-master/; \\\n",
        "    mkdir -p \"$BASE\"; \\\n",
        "    sh runner.sh \"$BASE\" | tee \"$BASE\"/log.txt )"
      ],
      "execution_count": 0,
      "outputs": []
    },
    {
      "cell_type": "markdown",
      "metadata": {
        "id": "pcrL_PGEaPkL",
        "colab_type": "text"
      },
      "source": [
        "Run the following **only** if the above run ends prematurely:"
      ]
    },
    {
      "cell_type": "code",
      "metadata": {
        "id": "rKMNObjONLCK",
        "colab_type": "code",
        "colab": {}
      },
      "source": [
        "!(  BASE=/content/drive/My\\ Drive/WikipediaArticles; \\\n",
        "    DIR=$(ls -drtF1 \"$BASE\"/*/ | tail -1 | sed -e 's/\\/\\/*$//g'); \\\n",
        "    ls \"$DIR\"; \\\n",
        "    cd wikipedia-reader-master/; \\\n",
        "    python main.py -r -b \"$BASE\" -d \"$DIR\" | tee -a \"$BASE\"/log.txt )"
      ],
      "execution_count": 0,
      "outputs": []
    },
    {
      "cell_type": "markdown",
      "metadata": {
        "id": "X-8cgfM6ahgK",
        "colab_type": "text"
      },
      "source": [
        "Delete `*.json` files and keep only the `*.bz2` files to make it easier to download"
      ]
    },
    {
      "cell_type": "code",
      "metadata": {
        "id": "gsx-SVHXW0md",
        "colab_type": "code",
        "colab": {}
      },
      "source": [
        "!(  BASE=/content/drive/My\\ Drive/WikipediaArticles; \\\n",
        "    DIR=$(ls -drtF1 \"$BASE\"/*/ | tail -1 | sed -e 's/\\/\\/*$//g'); \\\n",
        "    rm \"$DIR\"/*.json )"
      ],
      "execution_count": 0,
      "outputs": []
    },
    {
      "cell_type": "code",
      "metadata": {
        "id": "9biemlz5W97y",
        "colab_type": "code",
        "colab": {}
      },
      "source": [
        "!du -hs \"/content/drive/My Drive/WikipediaArticles/2020Apr05.134600\""
      ],
      "execution_count": 0,
      "outputs": []
    }
  ]
}